{
 "cells": [
  {
   "cell_type": "code",
   "execution_count": null,
   "metadata": {},
   "outputs": [],
   "source": [
    "%matplotlib inline\n",
    "import numpy as np\n",
    "import matplotlib.pyplot as plt\n",
    "import matplotlib.mlab as mlab\n",
    "from scipy import stats\n",
    "import pandas as pd\n",
    "import math\n",
    "\n",
    "import my_lib_santanastasio as my\n",
    "\n",
    "import rotolamento as rt"
   ]
  },
  {
   "cell_type": "code",
   "execution_count": null,
   "metadata": {},
   "outputs": [],
   "source": [
    "#label = [ x_label, x_unit, y_label, y_unit ]\n",
    "def easy_linfit(x,ux,y,uy,label,save_fig=None,):\n",
    "    \n",
    "    fig_name = None\n",
    "   \n",
    "    #eseguire fit\n",
    "    if save_fig is not None:\n",
    "        fig_name = save_fig \n",
    "     \n",
    "    print(\"prima iterazione (assumo sigma x=0)\\n\")\n",
    "    m0, sm0, c0, sc0, cov0, rho0 = my.lin_fit(x, y, uy, \"x [ux]\", \"y [uy]\",  0, x.max()+0.01, 0, y.max()+0.1, setrange=True,save_fig=fig_name)    \n",
    "    plt.cla()\n",
    "    \n",
    "    print(\"\\n nuove y \\n\")\n",
    "    uy_new = np.sqrt(uy**2+(m0*ux)**2)\n",
    "    m, sm, c, sc, cov, rho = my.lin_fit(x, y, uy_new, \"x [ux]\", \"y [uy]\", 0, x.max()+0.01, 0, y.max()+0.1, setrange=True,save_fig=fig_name)\n",
    "    \n",
    "    # Studio dei residui\n",
    "    if save_fig is not None:\n",
    "        fig_name = \"residui-\"+save_fig \n",
    "        \n",
    "    y_atteso = m*x + c\n",
    "    d = y - y_atteso\n",
    "    d_norm = d / uy_new\n",
    "    \n",
    "    plt.cla()\n",
    "\n",
    "    if save_fig is not None:\n",
    "        fig_name = \"residui-\"+save_fig \n",
    "        plt.errorbar(x,d_norm,uy_new/uy_new,marker='.',linestyle=\"\")\n",
    "        plt.ylabel(\"Residui normalizzati $d/\\sigma_y=(y-y_{atteso})/\\sigma_y$\")\n",
    "        plt.xlabel(\"$x$ [ux]\")\n",
    "        plt.grid()\n",
    "        plt.savefig(fig_name)\n",
    "    \n",
    "    # Incertezze a posteriori\n",
    "    sigmy_post = math.sqrt( np.sum(d**2)/(d.size-2) )\n",
    "    uy_post = np.repeat(sigmy_post,y.size)\n",
    "\n",
    "    # Nuovo fit con incertezze a posteriori sulle y\n",
    "    print(\"\\n Nuovo fit con incertezze a posteriori sulle y \\n\")\n",
    "    if save_fig is not None:\n",
    "        fig_name = \"posteriori-\"+save_fig \n",
    "       \n",
    "   \n",
    "    plt.cla()\n",
    "    m1, sm1, c1, sc1, cov1, rho1 = my.lin_fit(x, y, uy_post, \"x [ux]\", \"y [uy]\", 0, x.max()+0.1, 0, y.max()+1, setrange=True,save_fig=fig_name)\n",
    "    \n",
    "\n",
    "    chi2(x,y,uy,m1,c1)\n",
    "    \n",
    "    return [ \n",
    "        [ m,sm ],\n",
    "        [ m1,sm1 ],\n",
    "    ]\n",
    "\n"
   ]
  }
 ],
 "metadata": {
  "kernelspec": {
   "display_name": "Python 3",
   "language": "python",
   "name": "python3"
  },
  "language_info": {
   "codemirror_mode": {
    "name": "ipython",
    "version": 3
   },
   "file_extension": ".py",
   "mimetype": "text/x-python",
   "name": "python",
   "nbconvert_exporter": "python",
   "pygments_lexer": "ipython3",
   "version": "3.8.5"
  }
 },
 "nbformat": 4,
 "nbformat_minor": 4
}
