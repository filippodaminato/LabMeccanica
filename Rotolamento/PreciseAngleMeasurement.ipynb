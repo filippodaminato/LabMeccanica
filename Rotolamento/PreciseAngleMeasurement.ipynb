{
 "cells": [
  {
   "cell_type": "code",
   "execution_count": 1,
   "metadata": {},
   "outputs": [],
   "source": [
    "%matplotlib inline\n",
    "import numpy as np\n",
    "import matplotlib.pyplot as plt\n",
    "import matplotlib.mlab as mlab\n",
    "from scipy import stats\n",
    "import pandas as pd\n",
    "import math\n",
    "\n",
    "import my_lib_santanastasio as my\n",
    "\n",
    "import rotolamento as rt"
   ]
  },
  {
   "cell_type": "code",
   "execution_count": 2,
   "metadata": {},
   "outputs": [
    {
     "name": "stdout",
     "output_type": "stream",
     "text": [
      "Angolo= 0.431 ± 0.0 [Rad] [0.00%]\n",
      "Angolo= 24.709 ± 0.009 [Deg] [0.04%]\n",
      "\n",
      "\n",
      "Angolo= 0.429 ± 0.0 [Rad] [0.00%]\n",
      "Angolo= 24.583 ± 0.014 [Deg] [0.06%]\n",
      "\n",
      "\n",
      "Angolo= 0.431 ± 0.0 [Rad] [0.00%]\n",
      "Angolo= 24.672 ± 0.004 [Deg] [0.02%]\n",
      "\n",
      "\n"
     ]
    },
    {
     "data": {
      "image/png": "[encoded data removed]",
      "text/plain": [
       "<Figure size 432x288 with 1 Axes>"
      ]
     },
     "metadata": {
      "needs_background": "light"
     },
     "output_type": "display_data"
    }
   ],
   "source": [
    "file_name = 'misure_2/Angolo25NEW/plane.csv'\n",
    "\n",
    "df_angle = pd.read_csv(file_name)\n",
    "    \n",
    "angle = df_angle['Inclination (deg)'].to_numpy()\n",
    "time = df_angle['t (s)'].to_numpy()\n",
    "\n",
    "intervals = [\n",
    "    [2.5,7.5],\n",
    "    [7.5,12],\n",
    "    [13,17.5],\n",
    "]\n",
    "\n",
    "angle_mean = []\n",
    "\n",
    "plt.plot(time[:],angle[:])\n",
    "\n",
    "for x in intervals:\n",
    "    s = rt.time_to_index(time,x[0])\n",
    "    f = rt.time_to_index(time,x[1])\n",
    "\n",
    "    #plt.plot(time[s:f],angle[s:f])\n",
    "    angle_mean.append(rt.get_angle(angle[s:f]))\n",
    "    print(\"\\n\")\n",
    "\n",
    "angle_mean = np.array(angle_mean)\n"
   ]
  },
  {
   "cell_type": "code",
   "execution_count": 3,
   "metadata": {},
   "outputs": [],
   "source": [
    "angle_best = angle_mean[:,0].mean()\n",
    "sangle_best = np.std(angle_mean[:,0], ddof=1)/np.sqrt(len(angle_mean))"
   ]
  },
  {
   "cell_type": "code",
   "execution_count": 4,
   "metadata": {},
   "outputs": [
    {
     "name": "stdout",
     "output_type": "stream",
     "text": [
      "Angle Best: = 0.43 ± 0.001 [rad] [0.23%]\n"
     ]
    }
   ],
   "source": [
    "rt.PrintResult(\"Angle Best: \",angle_best,sangle_best,3,\"[rad]\")\n"
   ]
  },
  {
   "cell_type": "code",
   "execution_count": 5,
   "metadata": {},
   "outputs": [
    {
     "name": "stdout",
     "output_type": "stream",
     "text": [
      "Angle Best: = 24.655 ± 0.037 [deg] [0.15%]\n"
     ]
    }
   ],
   "source": [
    "convert_factor = 180/np.pi\n",
    "rt.PrintResult(\"Angle Best: \",angle_best*convert_factor,sangle_best*convert_factor,3,\"[deg]\")"
   ]
  },
  {
   "cell_type": "code",
   "execution_count": 6,
   "metadata": {},
   "outputs": [
    {
     "data": {
      "text/html": [
       "<div>\n",
       "<style scoped>\n",
       "    .dataframe tbody tr th:only-of-type {\n",
       "        vertical-align: middle;\n",
       "    }\n",
       "\n",
       "    .dataframe tbody tr th {\n",
       "        vertical-align: top;\n",
       "    }\n",
       "\n",
       "    .dataframe thead th {\n",
       "        text-align: right;\n",
       "    }\n",
       "</style>\n",
       "<table border=\"1\" class=\"dataframe\">\n",
       "  <thead>\n",
       "    <tr style=\"text-align: right;\">\n",
       "      <th></th>\n",
       "      <th>Angolo [deg]</th>\n",
       "      <th>Sigma Angolo</th>\n",
       "    </tr>\n",
       "  </thead>\n",
       "  <tbody>\n",
       "    <tr>\n",
       "      <th>0</th>\n",
       "      <td>24.709</td>\n",
       "      <td>0.009</td>\n",
       "    </tr>\n",
       "    <tr>\n",
       "      <th>1</th>\n",
       "      <td>24.583</td>\n",
       "      <td>0.014</td>\n",
       "    </tr>\n",
       "    <tr>\n",
       "      <th>2</th>\n",
       "      <td>24.672</td>\n",
       "      <td>0.004</td>\n",
       "    </tr>\n",
       "  </tbody>\n",
       "</table>\n",
       "</div>"
      ],
      "text/plain": [
       "   Angolo [deg]  Sigma Angolo\n",
       "0        24.709         0.009\n",
       "1        24.583         0.014\n",
       "2        24.672         0.004"
      ]
     },
     "execution_count": 6,
     "metadata": {},
     "output_type": "execute_result"
    }
   ],
   "source": [
    "dtab = pd.DataFrame(data={\n",
    "    'Angolo [deg]' : [24.709,24.583,24.672],\n",
    "    'Sigma Angolo' : [0.009,0.014,0.004],\n",
    "})\n",
    "\n",
    "dtab"
   ]
  },
  {
   "cell_type": "code",
   "execution_count": 7,
   "metadata": {},
   "outputs": [
    {
     "name": "stdout",
     "output_type": "stream",
     "text": [
      "\\begin{tabular}{rr}\n",
      "\\toprule\n",
      " Angolo [deg] &  Sigma Angolo \\\\\n",
      "\\midrule\n",
      "       24.709 &         0.009 \\\\\n",
      "       24.583 &         0.014 \\\\\n",
      "       24.672 &         0.004 \\\\\n",
      "\\bottomrule\n",
      "\\end{tabular}\n",
      "\n"
     ]
    }
   ],
   "source": [
    "print (dtab.to_latex(index=False,formatters={'h': '{:.0E}'.format,'D': '{:.1f}'.format, 'V': '{:0.1E}'.format}))"
   ]
  },
  {
   "cell_type": "code",
   "execution_count": null,
   "metadata": {},
   "outputs": [],
   "source": []
  }
 ],
 "metadata": {
  "kernelspec": {
   "display_name": "Python 3",
   "language": "python",
   "name": "python3"
  },
  "language_info": {
   "codemirror_mode": {
    "name": "ipython",
    "version": 3
   },
   "file_extension": ".py",
   "mimetype": "text/x-python",
   "name": "python",
   "nbconvert_exporter": "python",
   "pygments_lexer": "ipython3",
   "version": "3.8.5"
  }
 },
 "nbformat": 4,
 "nbformat_minor": 4
}
