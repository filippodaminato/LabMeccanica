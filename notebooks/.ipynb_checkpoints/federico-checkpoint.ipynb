{
 "cells": [
  {
   "cell_type": "code",
   "execution_count": 2,
   "metadata": {},
   "outputs": [],
   "source": [
    "import matplotlib.pyplot as plt\n",
    "import numpy as np\n",
    "import scipy as sp\n",
    "import pandas as pd\n",
    "import random\n",
    "import math\n",
    "import my_lib_santanastasio as my\n",
    "import numpy.random as ran #serve per creare dataset\n",
    "\n",
    "from numpy import sqrt,floor,sin,exp #servono per le derivate\n",
    "from scipy import stats\n",
    "from __future__ import division\n",
    "from sympy import *\n",
    "from scipy.stats import chi2"
   ]
  },
  {
   "cell_type": "markdown",
   "metadata": {},
   "source": [
    "# Funzioni"
   ]
  },
  {
   "cell_type": "code",
   "execution_count": 3,
   "metadata": {},
   "outputs": [],
   "source": [
    "# data = set di dati\n",
    "# n_mis = numero di misurazioni\n",
    "# return: media, std_x, std_media\n",
    "def get_distribution(data,n_mis):\n",
    "    \n",
    "    mean=data.mean()\n",
    "    s=data.std()\n",
    "    s_mean=data.std()/n_mis**0.5\n",
    "    return mean,s,s_mean\n",
    "\n",
    "\n",
    "# data = set di dati\n",
    "# title,x_label,y_label = plot text\n",
    "# gauss = disegna gaussiana\n",
    "# fig_name = immagine_plt.png \n",
    "# return: None\n",
    "def get_histogram(data,title,x_label,y_label,gauss=False,fig_name=None): \n",
    "    \n",
    "    binsize = np.std(data,ddof=1)/2 \n",
    "    interval = data.max() - data.min()\n",
    "    nbins = int(interval / binsize)\n",
    "    \n",
    "    counts , bins , patches = plt.hist(data,bins=nbins,color=\"blue\",edgecolor=\"yellow\",alpha=0.75)\n",
    "    \n",
    "    #labeling\n",
    "    plt.xlabel(x_label)\n",
    "    plt.ylabel(y_label)\n",
    "    plt.title(label=title+' $\\mu$={0:.3f} $\\sigma$={1:.3f}'.format(data.mean(),np.std(data,ddof=1)/np.sqrt(len(data))))  \n",
    "    \n",
    "    if gauss:\n",
    "        lnspc = np.linspace(data.min()-data.std(), data.max()+data.std(), 100) \n",
    "        norm_factor = data.size * binsize\n",
    "        f_gaus = norm_factor*stats.norm.pdf(lnspc,data.mean(),data.std()) \n",
    "        plt.plot(lnspc, f_gaus, linewidth=1, color='r',linestyle='--')\n",
    "        \n",
    "    if fig_name is not None:\n",
    "        plt.savefig(title+\"-hist.png\")\n",
    "        \n",
    "def FitValues(x, y, sd_y):\n",
    "    \n",
    "    w_y = np.power(sd_y.astype(float), -2) \n",
    "    y_mean = my.my_mean(y, w_y)\n",
    "    x_mean = my.my_mean(x, w_y)\n",
    "    x_2_mean = my.my_mean(x*x, w_y)\n",
    "    xy_mean = my.my_mean(x*y, w_y)\n",
    "    var_x = my.my_var(x, w_y)\n",
    "    cov_xy = my.my_cov(x, y, w_y)\n",
    "    \n",
    "    print(\"x_mean: \"+str(x_mean))\n",
    "    print(\"y_mean: \"+str(y_mean))\n",
    "    print(\"x_2_mean: \"+str(x_2_mean))\n",
    "    print(\"xy_mean: \"+str(xy_mean))\n",
    "    print(\"var_x: \"+str(var_x))\n",
    "    print(\"cov_xy: \"+str(cov_xy))\n",
    "    print(\"w_y: \"+str(sum(w_y)))\n",
    "    \n",
    "#esegue un fit lineare x vs y\n",
    "# unità_x, unit\n",
    "def fit(x,y,ux,uy,x_unit,y_unit,N,M,save_fig,name): \n",
    "   \n",
    "    res = []\n",
    "    #== CENTRAGGIO FIGURA ==\n",
    "    #m e n servono per centrare meglio la figura (devono essere positivi e  <1) \n",
    "    fig = {\n",
    "        'x_min' : x.min()-x.min()*N ,\n",
    "        'x_max' : x.max()+x.max()*N ,\n",
    "        'y_min' : y.min()-y.min()*M ,\n",
    "        'y_max' : y.max()+y.max()*M ,\n",
    "    }\n",
    "    \n",
    "    #== PRIMA ITERAZIONE ==\n",
    "    print('\\nPrima iterazione (incertezze sulle x trascurate)')\n",
    "    m0, sm0, c0, sc0, cov0, rho0 = my.lin_fit(x, y, uy, x_unit, y_unit, fig['x_min'], fig['x_max'], fig['y_min'], fig['y_max'], plot=True, setrange=True)\n",
    "    res.append({\n",
    "            'm' : m0,\n",
    "            'sm' : sm0,\n",
    "            'c' : c0,\n",
    "            'sc' : sc0,\n",
    "            'cov' : cov0,\n",
    "            'rho' : rho0\n",
    "        })\n",
    "    \n",
    "    if(save_fig):\n",
    "        plt.savefig(name+\"_1.png\")\n",
    "    plt.show()\n",
    "    plt.cla()\n",
    "    \n",
    "    #== SECONDA ITERAZIONE ==\n",
    "    print('\\nSeconda iterazione incertezze sulle x non trascurate')\n",
    "    uy_new = np.sqrt(uy**2+(m0*ux)**2)\n",
    "    m, sm, c, sc, cov, rho = my.lin_fit(x, y, uy_new, x_unit, y_unit, fig['x_min'],fig['x_max'],fig['y_min'],fig['y_max'], plot=True, setrange=True)\n",
    "    res.append({\n",
    "            'm' : m,\n",
    "            'sm' : sm,\n",
    "            'c' : c,\n",
    "            'sc' : sc,\n",
    "            'cov' : cov,\n",
    "            'rho' : rho\n",
    "        })\n",
    "    \n",
    "    if(save_fig):\n",
    "        plt.savefig(name+\"_2.png\")\n",
    "    plt.show()\n",
    "    plt.cla()\n",
    "    \n",
    "    #== STUDIO RESIDUI ==\n",
    "    print('\\nStudio Residui')\n",
    "    y_atteso = m*x + c\n",
    "    d = y - y_atteso\n",
    "    d_norm = d / uy_new\n",
    "    plt.errorbar(x,d,uy_new,marker='.',linestyle=\"\")\n",
    "    plt.ylabel(\"Residui $d=y-y_{atteso}$ \"+y_unit)\n",
    "    plt.xlabel(x_unit)\n",
    "    plt.grid()\n",
    "    \n",
    "    if(save_fig):\n",
    "        plt.savefig(name+\"_res.png\")\n",
    "    plt.show()\n",
    "    plt.cla()\n",
    "    \n",
    "    #== STUDIO RESIDUI NORMALIZZATI ==\n",
    "    \n",
    "    plt.errorbar(x,d_norm,uy_new/uy_new,marker='.',linestyle=\"\")\n",
    "    plt.ylabel(\"Residui normalizzati $d/\\sigma_y=(y-y_{atteso})/\\sigma_y$\")\n",
    "    plt.xlabel(x_unit)\n",
    "    plt.grid()\n",
    "    if(save_fig):\n",
    "        plt.savefig(name+\"_res_norm.png\")\n",
    "    plt.show()\n",
    "    plt.cla()\n",
    "    \n",
    "    \n",
    "    #== TEST CHI^2 ==\n",
    "    print('\\nTest chi^2')\n",
    "    residui = y - (m*x+c)\n",
    "    residuiNorm = residui / uy\n",
    "    chi2_data = np.sum(residuiNorm**2)\n",
    "    ndf = len(x) - 2\n",
    "    redChi2_data = chi2_data / ndf\n",
    "    print (\"chi2 misurato: \", chi2_data.round(2))\n",
    "    print (\"ndf: \",  ndf)\n",
    "    print (\"chi2 mis./ndf: \",  (chi2_data/ndf).round(2))\n",
    "    \n",
    "    #== P_VALUE ==\n",
    "    p_value = 1-chi2.cdf(chi2_data, ndf)\n",
    "    alpha = 0.05\n",
    "    if p_value>alpha:\n",
    "        print (\"\\np_value={0} > {1}\".format(p_value,alpha))\n",
    "        print (\"Test del Chi2 al livello di significatività alpha={0} superato\".format(alpha))\n",
    "    else:\n",
    "        print (\"\\np_value={0} < {1}\".format(p_value,alpha))\n",
    "        print (\"Test del Chi2 al livello di significatività alpha={0} non superato\".format(alpha))\n",
    "    \n",
    "    \n",
    "    #== INCERTEZZE A POSTERIORI ==\n",
    "    print('\\nCon incertezze a posteriori ')\n",
    "    sigmy_post = math.sqrt( np.sum(d**2)/(d.size-2) )\n",
    "    uy_post = np.repeat(sigmy_post,y.size)\n",
    "    print ('\\nIncertezze a posteriori={0}'.format(sigmy_post))\n",
    "    m1, sm1, c1, sc1, cov1, rho1 = my.lin_fit(x, y, uy_post, x_unit, y_unit, fig['x_min'], fig['x_max'], fig['y_min'], fig['y_max'], plot=True, setrange=True)\n",
    "    res.append({\n",
    "            'm' : m1,\n",
    "            'sm' : sm1,\n",
    "            'c' : c1,\n",
    "            'sc' : sc1,\n",
    "            'cov' : cov1,\n",
    "            'rho' : rho1\n",
    "        })\n",
    "    \n",
    "    if(save_fig):\n",
    "        plt.savefig(name+\"_post.png\")\n",
    "    plt.show()\n",
    "    \n",
    "    return res\n",
    "    \n",
    "# calcola valori di y tramite risultati del fit\n",
    "# x,sx\n",
    "# fit = {m,sm,c,sc,cov[m,c],rho[m,c]}\n",
    "def y_from_fit(x,sx,fit):\n",
    "    y = fit['m']*x + fit['c']\n",
    "    sy = np.sqrt((x*fit['sm'])**2 + fit['sc']**2 + (fit['m']*sx)**2 + 2*x*fit['cov'])\n",
    "    \n",
    "    return y,sy"
   ]
  },
  {
   "cell_type": "markdown",
   "metadata": {},
   "source": [
    "## Derivate "
   ]
  },
  {
   "cell_type": "code",
   "execution_count": 4,
   "metadata": {},
   "outputs": [
    {
     "data": {
      "text/latex": [
       "$\\displaystyle - \\frac{a}{t^{2}}$"
      ],
      "text/plain": [
       "-a/t**2"
      ]
     },
     "execution_count": 4,
     "metadata": {},
     "output_type": "execute_result"
    }
   ],
   "source": [
    "a,t, g=symbols(\"a t\",real=True)\n",
    "f = symbols('f', cls=Function)\n",
    "f= a/t\n",
    "\n",
    "diff(f,t)"
   ]
  },
  {
   "cell_type": "markdown",
   "metadata": {},
   "source": [
    "## Integrali"
   ]
  },
  {
   "cell_type": "code",
   "execution_count": 6,
   "metadata": {},
   "outputs": [],
   "source": [
    "#g=3*exp(-3*x)\n",
    "#integrate(g, (x, 0, oo))"
   ]
  },
  {
   "cell_type": "markdown",
   "metadata": {},
   "source": [
    "# Esempi uso funzioni"
   ]
  },
  {
   "cell_type": "code",
   "execution_count": null,
   "metadata": {},
   "outputs": [],
   "source": [
    "#set dati\n",
    "x= ran.normal( 1.0, 0.1, 20 )\n",
    "sx=0.01\n",
    "y_true=2*x+3\n",
    "sy=np.repeat(0.1,len(x))\n",
    "y = ran.normal(y_true,0.1)"
   ]
  },
  {
   "cell_type": "code",
   "execution_count": null,
   "metadata": {},
   "outputs": [],
   "source": [
    "x_mean,s_x,s_mean_x=get_distribution(x,len(x))\n",
    "print (x_mean,s_x,s_mean_x)"
   ]
  },
  {
   "cell_type": "code",
   "execution_count": null,
   "metadata": {},
   "outputs": [],
   "source": [
    "get_histogram(x,'Histogram of x:',\"ux[x]\",\"Entries\",gauss=True,fig_name=None)"
   ]
  },
  {
   "cell_type": "code",
   "execution_count": null,
   "metadata": {},
   "outputs": [],
   "source": [
    "fit_res = fit(x,y,sx,sy,\"$T^2$ [$s^2$]\",\"$\\Theta$ [rad]\",0.01,0.1,True,\"fit\") "
   ]
  },
  {
   "cell_type": "code",
   "execution_count": null,
   "metadata": {},
   "outputs": [],
   "source": [
    "#fit_res"
   ]
  },
  {
   "cell_type": "code",
   "execution_count": null,
   "metadata": {},
   "outputs": [],
   "source": [
    "FitValues(x,y,sy)"
   ]
  },
  {
   "cell_type": "code",
   "execution_count": null,
   "metadata": {},
   "outputs": [],
   "source": [
    "y_from_fit(1.20,0,fit_res[2])"
   ]
  },
  {
   "cell_type": "code",
   "execution_count": null,
   "metadata": {},
   "outputs": [],
   "source": []
  }
 ],
 "metadata": {
  "kernelspec": {
   "display_name": "Python 3",
   "language": "python",
   "name": "python3"
  },
  "language_info": {
   "codemirror_mode": {
    "name": "ipython",
    "version": 3
   },
   "file_extension": ".py",
   "mimetype": "text/x-python",
   "name": "python",
   "nbconvert_exporter": "python",
   "pygments_lexer": "ipython3",
   "version": "3.8.5"
  }
 },
 "nbformat": 4,
 "nbformat_minor": 4
}
