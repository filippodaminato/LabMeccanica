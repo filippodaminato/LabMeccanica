{
 "cells": [
  {
   "cell_type": "code",
   "execution_count": 3,
   "metadata": {},
   "outputs": [],
   "source": [
    "import matplotlib.pyplot as plt\n",
    "import numpy as np\n",
    "import scipy as sp\n",
    "import pandas as pd\n",
    "import random\n",
    "import math\n",
    "\n",
    "import numpy.random as ran #serve per creare dataset\n",
    "\n",
    "from numpy import sqrt,floor,sin,exp #servono per le derivate\n",
    "from scipy import stats\n",
    "from __future__ import division\n",
    "from sympy import *\n",
    "from scipy.stats import chi2"
   ]
  },
  {
   "cell_type": "code",
   "execution_count": 39,
   "metadata": {},
   "outputs": [
    {
     "data": {
      "text/plain": [
       "[0.09765625,\n",
       " 0.9765625,\n",
       " 4.39453125,\n",
       " 11.71875,\n",
       " 20.5078125,\n",
       " 24.609375,\n",
       " 20.5078125,\n",
       " 11.71875,\n",
       " 4.39453125,\n",
       " 0.9765625,\n",
       " 0.09765625]"
      ]
     },
     "execution_count": 39,
     "metadata": {},
     "output_type": "execute_result"
    }
   ],
   "source": [
    "M = 100 #numero di palline\n",
    "N = 10 #numero di file\n",
    "p = 0.5 #probabilità piolo\n",
    "\n",
    "k = np.arange(0,N+1) #array di file (si aggiunge +1 perche parte da 0)\n",
    "p_k = [] #array per contare quante palline nella fila k-esima\n",
    "\n",
    "\n",
    "def binomial(n,x,p):\n",
    "    binomial_coef =  math.factorial(n)/(math.factorial(x)*math.factorial(n-x))\n",
    "    return binomial_coef*np.power(p,x)*np.power(1-p,n-x)\n",
    "\n",
    "\n",
    "for x in range(0,N+1):\n",
    "    p_k.append(M*binomial(N,x,p))\n",
    "\n",
    "p_k"
   ]
  },
  {
   "cell_type": "code",
   "execution_count": 41,
   "metadata": {},
   "outputs": [
    {
     "data": {
      "text/plain": [
       "[<matplotlib.lines.Line2D at 0x7fa701a1b670>]"
      ]
     },
     "execution_count": 41,
     "metadata": {},
     "output_type": "execute_result"
    },
    {
     "data": {
      "image/png": "[encoded data removed]",
      "text/plain": [
       "<Figure size 432x288 with 1 Axes>"
      ]
     },
     "metadata": {
      "needs_background": "light"
     },
     "output_type": "display_data"
    }
   ],
   "source": [
    "plt.plot(k,p_k)"
   ]
  },
  {
   "cell_type": "code",
   "execution_count": null,
   "metadata": {},
   "outputs": [],
   "source": []
  }
 ],
 "metadata": {
  "interpreter": {
   "hash": "dca0ade3e726a953b501b15e8e990130d2b7799f14cfd9f4271676035ebe5511"
  },
  "kernelspec": {
   "display_name": "Python 3.8.8 64-bit ('anaconda3': virtualenv)",
   "name": "python3"
  },
  "language_info": {
   "codemirror_mode": {
    "name": "ipython",
    "version": 3
   },
   "file_extension": ".py",
   "mimetype": "text/x-python",
   "name": "python",
   "nbconvert_exporter": "python",
   "pygments_lexer": "ipython3",
   "version": "3.8.8"
  },
  "orig_nbformat": 4
 },
 "nbformat": 4,
 "nbformat_minor": 2
}